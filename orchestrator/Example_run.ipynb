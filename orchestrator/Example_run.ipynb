{
 "cells": [
  {
   "cell_type": "code",
   "execution_count": 1,
   "id": "d034fc9e",
   "metadata": {},
   "outputs": [],
   "source": [
    "%load_ext autoreload\n",
    "%autoreload 2"
   ]
  },
  {
   "cell_type": "code",
   "execution_count": 2,
   "id": "53e38b77",
   "metadata": {},
   "outputs": [],
   "source": [
    "from Orchestrator import AbstractOrchestrator"
   ]
  },
  {
   "cell_type": "code",
   "execution_count": 15,
   "id": "b0bcc055",
   "metadata": {},
   "outputs": [],
   "source": [
    "my_data = {'info_need': 'Information about computer memory and its types.',\n",
    "           'qrels': ['MARCO1234', 'MARCO4312'],\n",
    "           'initial_query': 'memory'}\n",
    "\n",
    "usi = AbstractOrchestrator(my_data['info_need'], my_data['qrels'], my_data['initial_query'])"
   ]
  },
  {
   "cell_type": "code",
   "execution_count": 16,
   "id": "cb0327b5",
   "metadata": {},
   "outputs": [
    {
     "data": {
      "text/plain": [
       "'memory'"
      ]
     },
     "execution_count": 16,
     "metadata": {},
     "output_type": "execute_result"
    }
   ],
   "source": [
    "usi.start_search()"
   ]
  },
  {
   "cell_type": "code",
   "execution_count": 17,
   "id": "376c8a4b",
   "metadata": {},
   "outputs": [
    {
     "data": {
      "text/plain": [
       "\"That's not what I'm looking for.\""
      ]
     },
     "execution_count": 17,
     "metadata": {},
     "output_type": "execute_result"
    }
   ],
   "source": [
    "my_system_response = {'input_string': 'Here are the results.',\n",
    "                      'provenance_docs': ['POLO1234', 'DISKO2343'],\n",
    "                      'type_of_input': 'ranked_list'}\n",
    "usi.run_turn(my_system_response)"
   ]
  },
  {
   "cell_type": "code",
   "execution_count": 18,
   "id": "036df82f",
   "metadata": {},
   "outputs": [
    {
     "data": {
      "text/plain": [
       "'No, Information about computer memory and its types.'"
      ]
     },
     "execution_count": 18,
     "metadata": {},
     "output_type": "execute_result"
    }
   ],
   "source": [
    "my_system_response = {'input_string': 'Are you interested in human memory?',\n",
    "                      'provenance_docs': [],\n",
    "                      'type_of_input': 'question'}\n",
    "usi.run_turn(my_system_response)"
   ]
  },
  {
   "cell_type": "code",
   "execution_count": 19,
   "id": "41dbafa6",
   "metadata": {},
   "outputs": [
    {
     "data": {
      "text/plain": [
       "'Great, thanks!'"
      ]
     },
     "execution_count": 19,
     "metadata": {},
     "output_type": "execute_result"
    }
   ],
   "source": [
    "my_system_response = {'input_string': 'Here are improved results!',\n",
    "                      'provenance_docs': ['MARCO1234', 'POLO1234', 'QWER243'],\n",
    "                      'type_of_input': 'ranked_list'}\n",
    "usi.run_turn(my_system_response)"
   ]
  },
  {
   "cell_type": "code",
   "execution_count": null,
   "id": "b68acc92",
   "metadata": {},
   "outputs": [],
   "source": []
  }
 ],
 "metadata": {
  "kernelspec": {
   "display_name": "Python 3 (ipykernel)",
   "language": "python",
   "name": "python3"
  },
  "language_info": {
   "codemirror_mode": {
    "name": "ipython",
    "version": 3
   },
   "file_extension": ".py",
   "mimetype": "text/x-python",
   "name": "python",
   "nbconvert_exporter": "python",
   "pygments_lexer": "ipython3",
   "version": "3.9.12"
  }
 },
 "nbformat": 4,
 "nbformat_minor": 5
}
