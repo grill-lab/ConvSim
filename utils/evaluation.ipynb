{
 "cells": [
  {
   "cell_type": "code",
   "execution_count": 18,
   "metadata": {},
   "outputs": [
    {
     "name": "stdout",
     "output_type": "stream",
     "text": [
      "recall_1000\n",
      "TtestResult(statistic=-2.2180712310372668, pvalue=0.0278368728587291, df=175)\n",
      "ndcg_cut_3\n",
      "TtestResult(statistic=nan, pvalue=nan, df=nan)\n",
      "ndcg_cut_1000\n",
      "TtestResult(statistic=-0.30688157489037843, pvalue=0.7592983638090687, df=175)\n",
      "recip_rank\n",
      "TtestResult(statistic=0.11807573401711861, pvalue=0.906143067259763, df=175)\n",
      "map\n",
      "TtestResult(statistic=0.3156749261201703, pvalue=0.752625409899754, df=175)\n"
     ]
    }
   ],
   "source": [
    "\"\"\"Demonstrates how statistical significance tests can be ran using pytrec_eval.\"\"\"\n",
    "\n",
    "import argparse\n",
    "import os\n",
    "import scipy.stats\n",
    "import sys\n",
    "\n",
    "import pytrec_eval\n",
    "\n",
    "qrel = '../../data/datasets/ikat/2023-qrels.all-turns.txt'\n",
    "run_0 = '../data/generated_conversations/bm25_t5_monot5_bart/bm25_t5_monot5_bart.run'\n",
    "run_1 = '/home/ubuntu/ConvSim/data/generated_conversations/gpt3_simulation_baseline/gpt3_simulation_baseline.run'\n",
    "measures = ['recall_1000', 'ndcg_cut_3', 'ndcg_cut_1000', 'recip_rank', 'map']\n",
    "\n",
    "with open(qrel, 'r') as f_qrel:\n",
    "    qrel = pytrec_eval.parse_qrel(f_qrel)\n",
    "\n",
    "with open(run_0, 'r') as f_run:\n",
    "    first_run = pytrec_eval.parse_run(f_run)\n",
    "\n",
    "with open(run_1, 'r') as f_run:\n",
    "    second_run = pytrec_eval.parse_run(f_run)\n",
    "\n",
    "evaluator = pytrec_eval.RelevanceEvaluator(qrel, measures)\n",
    "\n",
    "first_results = evaluator.evaluate(first_run)\n",
    "second_results = evaluator.evaluate(second_run)\n",
    "\n",
    "query_ids = list(\n",
    "    set(first_results.keys()) & set(second_results.keys()))\n",
    "\n",
    "for measure in measures:\n",
    "    first_scores = []\n",
    "    second_scores = []\n",
    "    for query_id in query_ids:\n",
    "        if measure in first_results[query_id] and measure in second_results[query_id]:\n",
    "            first_scores.append(first_results[query_id][measure])\n",
    "            second_scores.append(second_results[query_id][measure])\n",
    "\n",
    "    print(measure)\n",
    "    print(scipy.stats.ttest_rel(first_scores, second_scores))\n"
   ]
  },
  {
   "cell_type": "code",
   "execution_count": null,
   "metadata": {},
   "outputs": [],
   "source": []
  }
 ],
 "metadata": {
  "kernelspec": {
   "display_name": "env",
   "language": "python",
   "name": "python3"
  },
  "language_info": {
   "codemirror_mode": {
    "name": "ipython",
    "version": 3
   },
   "file_extension": ".py",
   "mimetype": "text/x-python",
   "name": "python",
   "nbconvert_exporter": "python",
   "pygments_lexer": "ipython3",
   "version": "3.10.9"
  }
 },
 "nbformat": 4,
 "nbformat_minor": 2
}
